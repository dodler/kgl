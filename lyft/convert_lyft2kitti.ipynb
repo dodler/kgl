{
 "cells": [
  {
   "cell_type": "code",
   "execution_count": null,
   "metadata": {
    "collapsed": true
   },
   "outputs": [],
   "source": [
    "from pathlib import Path\n",
    "from PIL import Image\n",
    "\n",
    "INP_DIR = Path('/kaggle/input/3d-object-detection-for-autonomous-vehicles/')\n",
    "\n",
    "TABLES_DIR = INP_DIR.joinpath('train_data')\n",
    "\n",
    "!ln -s {INP_DIR}/train_images images\n",
    "!ln -s {INP_DIR}/train_maps maps\n",
    "!ln -s {INP_DIR}/train_lidar lidar\n",
    "\n",
    "DATA_DIR = Path().absolute() \n",
    "\n",
    "STORE_DIR = DATA_DIR.joinpath('kitti_format')\n",
    "\n",
    "!python -m lyft_dataset_sdk.utils.export_kitti nuscenes_gt_to_kitti -h\n",
    "\n",
    "\n"
   ]
  },
  {
   "cell_type": "code",
   "execution_count": null,
   "metadata": {},
   "outputs": [],
   "source": [
    "!python -m lyft_dataset_sdk.utils.export_kitti nuscenes_gt_to_kitti \\\n",
    "        --lyft_dataroot {DATA_DIR} \\\n",
    "        --table_folder {TABLES_DIR} \\\n",
    "        --samples_count 20 \\\n",
    "        --parallel_n_jobs 2 \\\n",
    "        --get_all_detections True \\\n",
    "        --store_dir {STORE_DIR}\n",
    "\n"
   ]
  },
  {
   "cell_type": "code",
   "execution_count": null,
   "metadata": {},
   "outputs": [],
   "source": [
    "!ls {STORE_DIR}/velodyne | head -2\n"
   ]
  },
  {
   "cell_type": "code",
   "execution_count": null,
   "metadata": {},
   "outputs": [],
   "source": [
    "RENDER_DIR = STORE_DIR.joinpath('render')\n",
    "all_renders = list(RENDER_DIR.glob('*'))\n",
    "all_renders.sort()"
   ]
  },
  {
   "cell_type": "code",
   "execution_count": null,
   "metadata": {},
   "outputs": [],
   "source": [
    "Image.open(all_renders[0])"
   ]
  },
  {
   "cell_type": "code",
   "execution_count": null,
   "metadata": {},
   "outputs": [],
   "source": [
    "Image.open(all_renders[1])"
   ]
  },
  {
   "cell_type": "code",
   "execution_count": null,
   "metadata": {},
   "outputs": [],
   "source": [
    "!rm -rf {STORE_DIR}"
   ]
  }
 ],
 "metadata": {
  "kernelspec": {
   "display_name": "Python 2",
   "language": "python",
   "name": "python2"
  },
  "language_info": {
   "codemirror_mode": {
    "name": "ipython",
    "version": 2
   },
   "file_extension": ".py",
   "mimetype": "text/x-python",
   "name": "python",
   "nbconvert_exporter": "python",
   "pygments_lexer": "ipython2",
   "version": "2.7.6"
  }
 },
 "nbformat": 4,
 "nbformat_minor": 0
}
